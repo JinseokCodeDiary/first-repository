{
  "nbformat": 4,
  "nbformat_minor": 0,
  "metadata": {
    "colab": {
      "provenance": [],
      "authorship_tag": "ABX9TyN5E8u8/ujbG8r/nIWESZEj",
      "include_colab_link": true
    },
    "kernelspec": {
      "name": "python3",
      "display_name": "Python 3"
    },
    "language_info": {
      "name": "python"
    }
  },
  "cells": [
    {
      "cell_type": "markdown",
      "metadata": {
        "id": "view-in-github",
        "colab_type": "text"
      },
      "source": [
        "<a href=\"https://colab.research.google.com/github/JinseokCodeDiary/first-repository/blob/master/AIFFEL_quest/quest01.quest1.ipynb\" target=\"_parent\"><img src=\"https://colab.research.google.com/assets/colab-badge.svg\" alt=\"Open In Colab\"/></a>"
      ]
    },
    {
      "cell_type": "code",
      "execution_count": null,
      "metadata": {
        "id": "kl7iX_wGJ4w9"
      },
      "outputs": [],
      "source": [
        "def test(arg):                        ##회문을 확인하는 함수##\n",
        "  rarg = arg[::-1]                    ##매개변수를 뒤집어 놓은 변수 []안에 콜론을 기준으로 처음 콜론 앞에 슬라이싱할 인덱스 첫 번째 값을 입력하고 입력하지 않을 경우 가장 앞 인덱스로 설정된다.\n",
        "                                      ## 다음 콜론 앞에 종료할 인덱스 값을 입력한다. 종료 인덱스 값도 입력하지 않을 경우 마지막 인덱스 값이 적용된다.\n",
        "                                      ##두번째 콜론 뒤에 스텝인덱스를 뜻하고 몇번째 인덱스마다 슬라이스할 지 설정하는 부분이다.\n",
        "                                      ##스텝인덱스에 -1을 입력할 경우 -는 역순으로 인덱스한다는 의미고 -1이므로 역순으로 모든 인덱스를 확인한다는 의미입니다.##\n",
        "                                      ##[::-1]이라는 것은 스트링의 처음부터 끝을 역순으로 하나씩 확인한 값을 가지게 된다.\n",
        "  if rarg == arg:                     ##매개변수와 위 변수와 비교##\n",
        "    print('회문입니다')               ##조건이 참일 경우 출력##\n",
        "  else:                               ##조건이 거짓일 경우 출력##\n",
        "    print('회문이 아닙니다.')\n",
        "\n",
        "arg = input('문장을 입력해주세요')    ##확인할 문장을 담은 변수##\n",
        "test(arg)                             ##test함수에 input값을 넣어서 실행##\n",
        "\n",
        "                                      ##회고 : 어제 배운 문자열 인덱싱, 슬라이싱과 조건문, 함수를 활용하여 퀘스트를 구현했다.\n",
        "                                      ##문자열 뒤집기 위해 슬라이싱과 인덱싱을 활용하고 그것을 조건문을 이용하여 판별했다 그 전부를 함수로 묶어 입력을 받을때 확인할 수 있도록 간략화 했다"
      ]
    },
    {
      "cell_type": "code",
      "source": [],
      "metadata": {
        "id": "Pg7-aMF0J8rb"
      },
      "execution_count": null,
      "outputs": []
    }
  ]
}