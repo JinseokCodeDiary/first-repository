{
 "cells": [
  {
   "cell_type": "code",
   "execution_count": 1,
   "id": "33d68f95",
   "metadata": {},
   "outputs": [
    {
     "name": "stdout",
     "output_type": "stream",
     "text": [
      "2.6.0\n"
     ]
    }
   ],
   "source": [
    "from __future__ import absolute_import, division\n",
    "from __future__ import print_function, unicode_literals\n",
    "\n",
    "import os\n",
    "import time\n",
    "import shutil\n",
    "import functools\n",
    "\n",
    "import numpy as np\n",
    "import matplotlib.pyplot as plt\n",
    "%matplotlib inline\n",
    "import matplotlib as mpl\n",
    "mpl.rcParams['axes.grid'] = False\n",
    "mpl.rcParams['figure.figsize'] = (12,12)\n",
    "\n",
    "from sklearn.model_selection import train_test_split\n",
    "from sklearn.metrics import confusion_matrix\n",
    "import matplotlib.image as mpimg\n",
    "import pandas as pd\n",
    "from PIL import Image\n",
    "from IPython.display import clear_output\n",
    "\n",
    "import tensorflow as tf\n",
    "import tensorflow_addons as tfa\n",
    "print(tf.__version__)\n",
    "\n",
    "from tensorflow.keras import layers\n",
    "from tensorflow.keras import losses\n",
    "from tensorflow.keras import models"
   ]
  },
  {
   "cell_type": "code",
   "execution_count": 2,
   "id": "020b1821",
   "metadata": {},
   "outputs": [],
   "source": [
    "DATASET_PATH = os.path.join(os.getenv('HOME'), 'aiffel', 'medical')\n",
    "\n",
    "img_dir = os.path.join(DATASET_PATH, \"train\")\n",
    "label_dir = os.path.join(DATASET_PATH, \"train_labels\")"
   ]
  },
  {
   "cell_type": "code",
   "execution_count": 3,
   "id": "5ba810db",
   "metadata": {},
   "outputs": [],
   "source": [
    "x_train_filenames = [os.path.join(img_dir, filename) for filename in os.listdir(img_dir)]\n",
    "x_train_filenames.sort()\n",
    "y_train_filenames = [os.path.join(label_dir, filename) for filename in os.listdir(label_dir)]\n",
    "y_train_filenames.sort()"
   ]
  },
  {
   "cell_type": "code",
   "execution_count": 4,
   "id": "961534a3",
   "metadata": {},
   "outputs": [],
   "source": [
    "x_train_filenames, x_test_filenames, y_train_filenames, y_test_filenames = \\\n",
    "                    train_test_split(x_train_filenames, y_train_filenames, test_size=0.2)"
   ]
  },
  {
   "cell_type": "code",
   "execution_count": 5,
   "id": "41e6149d",
   "metadata": {},
   "outputs": [
    {
     "name": "stdout",
     "output_type": "stream",
     "text": [
      "Number of training examples: 240\n",
      "Number of test examples: 60\n"
     ]
    }
   ],
   "source": [
    "num_train_examples = len(x_train_filenames)\n",
    "num_test_examples = len(x_test_filenames)\n",
    "\n",
    "print(\"Number of training examples: {}\".format(num_train_examples))\n",
    "print(\"Number of test examples: {}\".format(num_test_examples))"
   ]
  },
  {
   "cell_type": "code",
   "execution_count": 6,
   "id": "1d1c2821",
   "metadata": {},
   "outputs": [],
   "source": [
    "image_size = 256\n",
    "img_shape = (image_size, image_size, 3)\n",
    "batch_size = 8\n",
    "max_epochs = 10"
   ]
  },
  {
   "cell_type": "code",
   "execution_count": 7,
   "id": "4386a8ab",
   "metadata": {},
   "outputs": [],
   "source": [
    "def _process_pathnames(fname, label_path):\n",
    "    # We map this function onto each pathname pair\n",
    "    img_str = tf.io.read_file(fname)\n",
    "    img = tf.image.decode_bmp(img_str, channels=3)\n",
    "\n",
    "    label_img_str = tf.io.read_file(label_path)\n",
    "    label_img = tf.image.decode_bmp(label_img_str, channels=3)\n",
    "    label_img = tf.image.rgb_to_grayscale(label_img)\n",
    "\n",
    "    resize = [image_size, image_size]\n",
    "    img = tf.image.resize(img, resize)\n",
    "    label_img = tf.image.resize(label_img, resize)\n",
    "\n",
    "    scale = 1 / 255.\n",
    "    img = tf.cast(img, dtype=tf.float32) * scale\n",
    "    label_img = tf.cast(label_img, dtype=tf.float32) * scale\n",
    "\n",
    "    return img, label_img"
   ]
  },
  {
   "cell_type": "code",
   "execution_count": 8,
   "id": "3f48e228",
   "metadata": {},
   "outputs": [],
   "source": [
    "def shift_img(output_img, label_img, width_shift_range, height_shift_range):\n",
    "    \"\"\"This fn will perform the horizontal or vertical shift\"\"\"\n",
    "    if width_shift_range or height_shift_range:\n",
    "        if width_shift_range:\n",
    "                width_shift_range = tf.random.uniform([],\n",
    "                                                  -width_shift_range * img_shape[1],\n",
    "                                                  width_shift_range * img_shape[1])\n",
    "        if height_shift_range:\n",
    "                height_shift_range = tf.random.uniform([],\n",
    "                                                   -height_shift_range * img_shape[0],\n",
    "                                                   height_shift_range * img_shape[0])\n",
    "        output_img = tfa.image.translate(output_img,\n",
    "                                         [width_shift_range, height_shift_range])\n",
    "        label_img = tfa.image.translate(label_img,\n",
    "                                        [width_shift_range, height_shift_range])\n",
    "    return output_img, label_img"
   ]
  },
  {
   "cell_type": "code",
   "execution_count": 9,
   "id": "a1a33067",
   "metadata": {},
   "outputs": [],
   "source": [
    "def flip_img(horizontal_flip, tr_img, label_img):\n",
    "    if horizontal_flip:\n",
    "        flip_prob = tf.random.uniform([], 0.0, 1.0)\n",
    "        tr_img, label_img = tf.cond(tf.less(flip_prob, 0.5),\n",
    "                                lambda: (tf.image.flip_left_right(tr_img), tf.image.flip_left_right(label_img)),\n",
    "                                lambda: (tr_img, label_img))\n",
    "    return tr_img, label_img"
   ]
  },
  {
   "cell_type": "code",
   "execution_count": 10,
   "id": "9e7c34de",
   "metadata": {},
   "outputs": [],
   "source": [
    "def _augment(img,\n",
    "             label_img,\n",
    "             resize=None,  # Resize the image to some size e.g. [256, 256]\n",
    "             scale=1,  # Scale image e.g. 1 / 255.\n",
    "             hue_delta=0.,  # Adjust the hue of an RGB image by random factor\n",
    "             horizontal_flip=True,  # Random left right flip,\n",
    "             width_shift_range=0.05,  # Randomly translate the image horizontally\n",
    "             height_shift_range=0.05):  # Randomly translate the image vertically \n",
    "    if resize is not None:\n",
    "        # Resize both images\n",
    "        label_img = tf.image.resize(label_img, resize)\n",
    "        img = tf.image.resize(img, resize)\n",
    "  \n",
    "    if hue_delta:\n",
    "        img = tf.image.random_hue(img, hue_delta)\n",
    "  \n",
    "    img, label_img = flip_img(horizontal_flip, img, label_img)\n",
    "    img, label_img = shift_img(img, label_img, width_shift_range, height_shift_range)\n",
    "    label_img = tf.cast(label_img, dtype=tf.float32) * scale\n",
    "    img = tf.cast(img, dtype=tf.float32) * scale\n",
    "    return img, label_img"
   ]
  },
  {
   "cell_type": "code",
   "execution_count": 11,
   "id": "4f9d5d36",
   "metadata": {},
   "outputs": [],
   "source": [
    "def get_baseline_dataset(filenames,\n",
    "                         labels,\n",
    "                         preproc_fn=functools.partial(_augment),\n",
    "                         threads=4,\n",
    "                         batch_size=batch_size,\n",
    "                         is_train=True):\n",
    "    num_x = len(filenames)\n",
    "    # Create a dataset from the filenames and labels\n",
    "    dataset = tf.data.Dataset.from_tensor_slices((filenames, labels))\n",
    "    # Map our preprocessing function to every element in our dataset, taking\n",
    "    # advantage of multithreading\n",
    "    dataset = dataset.map(_process_pathnames, num_parallel_calls=threads)\n",
    "\n",
    "    if is_train:# 학습을 진행할시에만 위에 augment를 진행합니다.\n",
    "        #if preproc_fn.keywords is not None and 'resize' not in preproc_fn.keywords:\n",
    "        #  assert batch_size == 1, \"Batching images must be of the same size\"\n",
    "        dataset = dataset.map(preproc_fn, num_parallel_calls=threads)\n",
    "        dataset = dataset.shuffle(num_x * 10)\n",
    "\n",
    "    dataset = dataset.batch(batch_size)\n",
    "    return dataset"
   ]
  },
  {
   "cell_type": "code",
   "execution_count": 12,
   "id": "7cb78bbc",
   "metadata": {},
   "outputs": [
    {
     "data": {
      "text/plain": [
       "<RepeatDataset shapes: ((None, 256, 256, 3), (None, 256, 256, 1)), types: (tf.float32, tf.float32)>"
      ]
     },
     "execution_count": 12,
     "metadata": {},
     "output_type": "execute_result"
    }
   ],
   "source": [
    "train_dataset = get_baseline_dataset(x_train_filenames, # 학습 데이터\n",
    "                                     y_train_filenames) # 정답 데이터\n",
    "train_dataset = train_dataset.repeat()\n",
    "test_dataset = get_baseline_dataset(x_test_filenames,\n",
    "                                    y_test_filenames,\n",
    "                                    is_train=False)\n",
    "train_dataset"
   ]
  },
  {
   "cell_type": "code",
   "execution_count": 13,
   "id": "16a31ffd",
   "metadata": {},
   "outputs": [],
   "source": [
    "class Conv(tf.keras.Model):\n",
    "    def __init__(self, num_filters, kernel_size):\n",
    "        super(Conv, self).__init__()\n",
    "        self.conv = layers.Conv2D(num_filters, kernel_size, padding='same')\n",
    "        self.bn = layers.BatchNormalization()\n",
    "\n",
    "    def call(self, inputs, training=True):\n",
    "        x = self.conv(inputs)\n",
    "        x = self.bn(x, training=training)\n",
    "        x = layers.ReLU()(x)\n",
    "\n",
    "        return x"
   ]
  },
  {
   "cell_type": "code",
   "execution_count": 14,
   "id": "dd787937",
   "metadata": {},
   "outputs": [],
   "source": [
    "class ConvBlock(tf.keras.Model):\n",
    "    def __init__(self, num_filters):\n",
    "        super(ConvBlock, self).__init__()\n",
    "        self.conv1 = Conv(num_filters, 3)\n",
    "        self.conv2 = Conv(num_filters * 2, 3)\n",
    "\n",
    "    def call(self, inputs, training=True):\n",
    "        encoder = self.conv1(inputs, training=training)\n",
    "        encoder = self.conv2(encoder, training=training)\n",
    "\n",
    "        return encoder\n",
    "\n",
    "class ConvBlock_R(tf.keras.Model):\n",
    "    def __init__(self, num_filters):\n",
    "        super(ConvBlock_R, self).__init__()\n",
    "        self.conv1 = Conv(num_filters, 3)\n",
    "        self.conv2 = Conv(num_filters, 3)\n",
    "\n",
    "    def call(self, inputs, training=True):\n",
    "        decoder = self.conv1(inputs, training=training)\n",
    "        decoder = self.conv2(decoder, training=training)\n",
    "\n",
    "        return decoder\n",
    "\n",
    "\n",
    "class EncoderBlock(tf.keras.Model):\n",
    "    def __init__(self, num_filters):\n",
    "        super(EncoderBlock, self).__init__()\n",
    "        self.conv_block = ConvBlock(num_filters)\n",
    "        self.encoder_pool = layers.MaxPool2D()\n",
    "\n",
    "    def call(self, inputs, training=True):\n",
    "        encoder = self.conv_block(inputs, training=training)\n",
    "        encoder_pool = self.encoder_pool(encoder)\n",
    "\n",
    "        return encoder_pool, encoder\n",
    "\n",
    "\n",
    "class DecoderBlock(tf.keras.Model):\n",
    "    def __init__(self, num_filters):\n",
    "        super(DecoderBlock, self).__init__()\n",
    "        self.convT = layers.Conv2DTranspose(num_filters, 3, strides=2, padding='same')\n",
    "        self.bn = layers.BatchNormalization()\n",
    "        self.conv_block_r = ConvBlock_R(num_filters)\n",
    "\n",
    "    def call(self, input_tensor, concat_tensor, training=True):\n",
    "        decoder = self.convT(input_tensor)            \n",
    "        decoder = self.bn(decoder, training=training)\n",
    "        decoder = layers.ReLU()(decoder)\n",
    "        decoder = tf.concat([decoder, concat_tensor], axis=-1)\n",
    "        decoder = self.conv_block_r(decoder, training=training)\n",
    "\n",
    "        return decoder"
   ]
  },
  {
   "cell_type": "code",
   "execution_count": 15,
   "id": "96c88a57",
   "metadata": {},
   "outputs": [],
   "source": [
    "class UNet(tf.keras.Model):\n",
    "    def __init__(self):\n",
    "        super(UNet, self).__init__()\n",
    "        self.encoder_block1 = EncoderBlock(64)\n",
    "        self.encoder_block2 = EncoderBlock(128)\n",
    "        self.encoder_block3 = EncoderBlock(256)\n",
    "        self.encoder_block4 = EncoderBlock(512)\n",
    "\n",
    "        self.center = ConvBlock(1024)\n",
    "\n",
    "        self.decoder_block4 = DecoderBlock(512)\n",
    "        self.decoder_block3 = DecoderBlock(256)\n",
    "        self.decoder_block2 = DecoderBlock(128)\n",
    "        self.decoder_block1 = DecoderBlock(64)\n",
    "\n",
    "        self.output_conv = layers.Conv2D(1, 1, activation='sigmoid')\n",
    "\n",
    "    def call(self, inputs, training=True):\n",
    "        encoder1_pool, encoder1 = self.encoder_block1(inputs)\n",
    "        encoder2_pool, encoder2 = self.encoder_block2(encoder1_pool)\n",
    "        encoder3_pool, encoder3 = self.encoder_block3(encoder2_pool)\n",
    "        encoder4_pool, encoder4 = self.encoder_block4(encoder3_pool)\n",
    "\n",
    "        center = self.center(encoder4_pool)\n",
    "\n",
    "        decoder4 = self.decoder_block4(center, encoder4)\n",
    "        decoder3 = self.decoder_block3(decoder4, encoder3)\n",
    "        decoder2 = self.decoder_block2(decoder3, encoder2)\n",
    "        decoder1 = self.decoder_block1(decoder2, encoder1)\n",
    "\n",
    "        outputs = self.output_conv(decoder1)\n",
    "\n",
    "        return outputs"
   ]
  },
  {
   "cell_type": "code",
   "execution_count": 16,
   "id": "7876a192",
   "metadata": {},
   "outputs": [],
   "source": [
    "model= UNet()"
   ]
  },
  {
   "cell_type": "code",
   "execution_count": 17,
   "id": "385a07b2",
   "metadata": {},
   "outputs": [],
   "source": [
    "def dice_coeff(y_true, y_pred):\n",
    "    smooth = 1e-10\n",
    "    # Flatten\n",
    "    y_true_f = tf.reshape(y_true, [-1])\n",
    "    y_pred_f = tf.reshape(y_pred, [-1])\n",
    "    intersection = tf.reduce_sum(y_true_f * y_pred_f)\n",
    "    score = (2. * intersection + smooth) / (tf.reduce_sum(tf.square(y_true_f)) + \\\n",
    "                                            tf.reduce_sum(tf.square(y_pred_f)) + smooth)\n",
    "\n",
    "    return score"
   ]
  },
  {
   "cell_type": "code",
   "execution_count": 18,
   "id": "448a04bb",
   "metadata": {},
   "outputs": [],
   "source": [
    "def dice_loss(y_true, y_pred):\n",
    "    loss = 1 - dice_coeff(y_true, y_pred)\n",
    "    return loss"
   ]
  },
  {
   "cell_type": "code",
   "execution_count": 19,
   "id": "a6a8d121",
   "metadata": {},
   "outputs": [],
   "source": [
    "def bce_dice_loss(y_true, y_pred):\n",
    "    loss = tf.reduce_mean(losses.binary_crossentropy(y_true, y_pred)) + \\\n",
    "          dice_loss(y_true, y_pred)\n",
    "    return loss"
   ]
  },
  {
   "cell_type": "code",
   "execution_count": 20,
   "id": "5c985eaa",
   "metadata": {},
   "outputs": [],
   "source": [
    "optimizer = tf.keras.optimizers.Adam()"
   ]
  },
  {
   "cell_type": "code",
   "execution_count": 21,
   "id": "3dc99f5a",
   "metadata": {},
   "outputs": [
    {
     "name": "stdout",
     "output_type": "stream",
     "text": [
      "(8, 256, 256, 1)\n"
     ]
    }
   ],
   "source": [
    "model.compile(optimizer=optimizer, loss=bce_dice_loss, metrics=[dice_loss])\n",
    "predictions = model(tf.random.normal([batch_size, image_size, image_size, 3]))\n",
    "print(predictions.shape)"
   ]
  },
  {
   "cell_type": "code",
   "execution_count": 22,
   "id": "73c8993a",
   "metadata": {},
   "outputs": [],
   "source": [
    "checkpoint_dir =os.path.join(DATASET_PATH,'train_ckpt/unet_model')"
   ]
  },
  {
   "cell_type": "code",
   "execution_count": 23,
   "id": "20ef3fca",
   "metadata": {},
   "outputs": [],
   "source": [
    "if not os.path.isdir(checkpoint_dir):\n",
    "    os.makedirs(checkpoint_dir)\n",
    "\n",
    "cp_callback = tf.keras.callbacks.ModelCheckpoint(checkpoint_dir,\n",
    "                                                 save_weights_only=True,\n",
    "                                                 monitor='val_loss',\n",
    "                                                 mode='auto',\n",
    "                                                 save_best_only=True,\n",
    "                                                 verbose=0)"
   ]
  },
  {
   "cell_type": "code",
   "execution_count": 24,
   "id": "5f245c2c",
   "metadata": {},
   "outputs": [],
   "source": [
    "cos_decay = tf.keras.experimental.CosineDecay(1e-3, \n",
    "                                              max_epochs)\n",
    "lr_callback = tf.keras.callbacks.LearningRateScheduler(cos_decay, verbose=1)"
   ]
  },
  {
   "cell_type": "code",
   "execution_count": 25,
   "id": "3745efdb",
   "metadata": {},
   "outputs": [
    {
     "name": "stdout",
     "output_type": "stream",
     "text": [
      "Epoch 1/10\n",
      "\n",
      "Epoch 00001: LearningRateScheduler setting learning rate to tf.Tensor(0.001, shape=(), dtype=float32).\n",
      "30/30 [==============================] - 34s 788ms/step - loss: 1.0884 - dice_loss: 0.7295 - val_loss: 366.7691 - val_dice_loss: 0.9229\n",
      "Epoch 2/10\n",
      "\n",
      "Epoch 00002: LearningRateScheduler setting learning rate to tf.Tensor(0.00097552827, shape=(), dtype=float32).\n",
      "30/30 [==============================] - 25s 783ms/step - loss: 0.9280 - dice_loss: 0.6964 - val_loss: 6.2202 - val_dice_loss: 0.9790\n",
      "Epoch 3/10\n",
      "\n",
      "Epoch 00003: LearningRateScheduler setting learning rate to tf.Tensor(0.0009045085, shape=(), dtype=float32).\n",
      "30/30 [==============================] - 25s 795ms/step - loss: 0.9002 - dice_loss: 0.6846 - val_loss: 1.1093 - val_dice_loss: 0.8834\n",
      "Epoch 4/10\n",
      "\n",
      "Epoch 00004: LearningRateScheduler setting learning rate to tf.Tensor(0.00079389266, shape=(), dtype=float32).\n",
      "30/30 [==============================] - 26s 808ms/step - loss: 0.8520 - dice_loss: 0.6475 - val_loss: 1.0759 - val_dice_loss: 0.8293\n",
      "Epoch 5/10\n",
      "\n",
      "Epoch 00005: LearningRateScheduler setting learning rate to tf.Tensor(0.0006545085, shape=(), dtype=float32).\n",
      "30/30 [==============================] - 26s 819ms/step - loss: 0.7880 - dice_loss: 0.5958 - val_loss: 1.1576 - val_dice_loss: 0.9371\n",
      "Epoch 6/10\n",
      "\n",
      "Epoch 00006: LearningRateScheduler setting learning rate to tf.Tensor(0.00049999997, shape=(), dtype=float32).\n",
      "30/30 [==============================] - 26s 831ms/step - loss: 0.7290 - dice_loss: 0.5505 - val_loss: 1.0356 - val_dice_loss: 0.8530\n",
      "Epoch 7/10\n",
      "\n",
      "Epoch 00007: LearningRateScheduler setting learning rate to tf.Tensor(0.00034549143, shape=(), dtype=float32).\n",
      "30/30 [==============================] - 26s 819ms/step - loss: 0.7241 - dice_loss: 0.5528 - val_loss: 1.0346 - val_dice_loss: 0.8509\n",
      "Epoch 8/10\n",
      "\n",
      "Epoch 00008: LearningRateScheduler setting learning rate to tf.Tensor(0.00020610739, shape=(), dtype=float32).\n",
      "30/30 [==============================] - 26s 828ms/step - loss: 0.6737 - dice_loss: 0.5089 - val_loss: 1.0243 - val_dice_loss: 0.8433\n",
      "Epoch 9/10\n",
      "\n",
      "Epoch 00009: LearningRateScheduler setting learning rate to tf.Tensor(9.549147e-05, shape=(), dtype=float32).\n",
      "30/30 [==============================] - 26s 822ms/step - loss: 0.6409 - dice_loss: 0.4860 - val_loss: 1.0173 - val_dice_loss: 0.8345\n",
      "Epoch 10/10\n",
      "\n",
      "Epoch 00010: LearningRateScheduler setting learning rate to tf.Tensor(2.4471761e-05, shape=(), dtype=float32).\n",
      "30/30 [==============================] - 26s 823ms/step - loss: 0.6257 - dice_loss: 0.4735 - val_loss: 1.0157 - val_dice_loss: 0.8247\n"
     ]
    }
   ],
   "source": [
    "history = model.fit(train_dataset,\n",
    "                    epochs=max_epochs,    # 10\n",
    "                    steps_per_epoch=num_train_examples//batch_size,\n",
    "                    validation_data=test_dataset,\n",
    "                    validation_steps=num_test_examples//batch_size,\n",
    "                    callbacks=[cp_callback, lr_callback]\n",
    "                    )"
   ]
  },
  {
   "cell_type": "code",
   "execution_count": 26,
   "id": "91a0b845",
   "metadata": {},
   "outputs": [
    {
     "data": {
      "image/png": "[encoded data removed]",
      "text/plain": [
       "<Figure size 720x1440 with 3 Axes>"
      ]
     },
     "metadata": {
      "needs_background": "light"
     },
     "output_type": "display_data"
    }
   ],
   "source": [
    "def print_images():\n",
    "    for test_images, test_labels in test_dataset.take(1):\n",
    "        predictions = model(test_images, training=False)\n",
    "\n",
    "        plt.figure(figsize=(10, 20))\n",
    "        plt.subplot(1, 3, 1)\n",
    "        plt.imshow(test_images[0,: , :, :])\n",
    "        plt.title(\"Input image\")\n",
    "\n",
    "        plt.subplot(1, 3, 2)\n",
    "        plt.imshow(test_labels[0, :, :, 0])\n",
    "        plt.title(\"Actual Mask\")\n",
    "\n",
    "        plt.subplot(1, 3, 3)\n",
    "        plt.imshow(predictions[0, :, :, 0])\n",
    "        plt.title(\"Predicted Mask\")\n",
    "        plt.show()\n",
    "        \n",
    "print_images()"
   ]
  },
  {
   "cell_type": "code",
   "execution_count": 27,
   "id": "f871e9df",
   "metadata": {},
   "outputs": [],
   "source": [
    "def mean_iou(y_true, y_pred, num_classes=2):\n",
    "    # Flatten  \n",
    "    y_true_f = tf.reshape(y_true, [-1])\n",
    "    y_pred_f = tf.reshape(y_pred, [-1])\n",
    "\n",
    "    y_true_f = tf.cast(tf.round(y_true_f), dtype=tf.int32).numpy()\n",
    "    y_pred_f = tf.cast(tf.round(y_pred_f), dtype=tf.int32).numpy()\n",
    "\n",
    "    # calculate confusion matrix\n",
    "    labels = list(range(num_classes))\n",
    "    current = confusion_matrix(y_true_f, y_pred_f, labels=labels)\n",
    "\n",
    "    # compute mean iou\n",
    "    intersection = np.diag(current)\n",
    "    ground_truth_set = current.sum(axis=1)\n",
    "    predicted_set = current.sum(axis=0)\n",
    "    union = ground_truth_set + predicted_set - intersection\n",
    "\n",
    "    IoU = intersection / union.astype(np.float32)\n",
    "    return np.mean(IoU)"
   ]
  },
  {
   "cell_type": "code",
   "execution_count": 28,
   "id": "0249cfb0",
   "metadata": {},
   "outputs": [
    {
     "name": "stdout",
     "output_type": "stream",
     "text": [
      "mean_iou: 0.4757152867674085\n"
     ]
    }
   ],
   "source": [
    "mean = []\n",
    "\n",
    "for images, labels in test_dataset:\n",
    "    predictions = model(images, training=False)\n",
    "    m = mean_iou(labels, predictions)\n",
    "    mean.append(m)\n",
    "\n",
    "mean = np.array(mean)\n",
    "mean = np.mean(mean)\n",
    "print(\"mean_iou: {}\".format(mean))"
   ]
  },
  {
   "cell_type": "code",
   "execution_count": 29,
   "id": "6712cda6",
   "metadata": {},
   "outputs": [
    {
     "data": {
      "image/png": "[encoded data removed]",
      "text/plain": [
       "<Figure size 576x576 with 2 Axes>"
      ]
     },
     "metadata": {
      "needs_background": "light"
     },
     "output_type": "display_data"
    }
   ],
   "source": [
    "dice_loss = history.history['dice_loss']\n",
    "loss = history.history['loss']\n",
    "val_dice_loss = history.history['val_dice_loss']\n",
    "val_loss = history.history['val_loss']\n",
    "\n",
    "epochs_range = range(max_epochs)\n",
    "\n",
    "plt.figure(figsize=(8, 8))\n",
    "plt.subplot(1, 2, 1)\n",
    "plt.plot(epochs_range, loss, label='Loss')\n",
    "plt.plot(epochs_range, dice_loss, label='Dice Loss')\n",
    "plt.legend(loc='upper right')\n",
    "plt.title('Train Loss')\n",
    "\n",
    "plt.subplot(1, 2, 2)\n",
    "plt.plot(epochs_range, val_loss, label='Val Loss')\n",
    "plt.plot(epochs_range, val_dice_loss, label='Val Dice Loss')\n",
    "plt.legend(loc='upper right')\n",
    "plt.title('Valid Loss')\n",
    "plt.show()"
   ]
  },
  {
   "cell_type": "code",
   "execution_count": null,
   "id": "4a332c06",
   "metadata": {},
   "outputs": [],
   "source": []
  }
 ],
 "metadata": {
  "kernelspec": {
   "display_name": "Python 3 (ipykernel)",
   "language": "python",
   "name": "python3"
  },
  "language_info": {
   "codemirror_mode": {
    "name": "ipython",
    "version": 3
   },
   "file_extension": ".py",
   "mimetype": "text/x-python",
   "name": "python",
   "nbconvert_exporter": "python",
   "pygments_lexer": "ipython3",
   "version": "3.9.7"
  }
 },
 "nbformat": 4,
 "nbformat_minor": 5
}
