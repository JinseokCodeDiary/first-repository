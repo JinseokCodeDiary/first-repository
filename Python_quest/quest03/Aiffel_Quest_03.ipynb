{
  "nbformat": 4,
  "nbformat_minor": 0,
  "metadata": {
    "colab": {
      "provenance": [],
      "toc_visible": true,
      "collapsed_sections": [
        "ZBoAiMEPLxRi"
      ],
      "include_colab_link": true
    },
    "kernelspec": {
      "name": "python3",
      "display_name": "Python 3"
    },
    "language_info": {
      "name": "python"
    }
  },
  "cells": [
    {
      "cell_type": "markdown",
      "metadata": {
        "id": "view-in-github",
        "colab_type": "text"
      },
      "source": [
        "<a href=\"https://colab.research.google.com/github/JinseokCodeDiary/first-repository/blob/master/Python_quest/quest03/Aiffel_Quest_03.ipynb\" target=\"_parent\"><img src=\"https://colab.research.google.com/assets/colab-badge.svg\" alt=\"Open In Colab\"/></a>"
      ]
    },
    {
      "cell_type": "markdown",
      "source": [
        "# 문제 1"
      ],
      "metadata": {
        "id": "6iX5BNx1SfiH"
      }
    },
    {
      "cell_type": "code",
      "source": [
        "# 회고록_서은재\n",
        "# ()를 빼먹지 않도록 조심해야겠다. 기호 하나 빠뜨린 것으로 전체 코딩이 안 돌아갈 수 있으니 작은 거 하나도 신경써서 확인하는 태도가 필요한 것 같다.\n",
        "# 회고록 박진석\n",
        "# 코딩 문법을 정확히 알고 있어야할 필요성을 알게되었다. 문제 해결을 위해 맞는 논리적 구조로 코딩을 했지만 오류가 났을 때 당황하게 되고 다른 방법을 찾다가 의미없는 시간을 많이 쓰게되었다.\n",
        "\n",
        "def find_min_max(numbers):\n",
        "  # min_value와 max_value 변수를 초기화\n",
        "  min_value = 0\n",
        "  max_value = 0\n",
        "  # min_value는 양의 무한대(float('inf'))로 초기화하여 어떤 숫자보다도 큰 값으로 설정\n",
        "  min_value = float('inf')\n",
        "  # max_value는 음의 무한대(float('-inf'))로 초기화하여 어떤 숫자보다도 작은 값으로 설정\n",
        "  max_value = float('-inf')\n",
        "\n",
        "  def undate_min_max(num):\n",
        "    # 내부 변수 선언 nonlocal 사용하기\n",
        "    nonlocal min_value\n",
        "    nonlocal max_value\n",
        "    # 만약 num 값이 min_value보다 작다면 min_value를 num 값으로 변경\n",
        "    if num < min_value :\n",
        "      min_value = num\n",
        "    # 만약 num 값이 max_value보다 크다면 max_value를 num 값으로 변경\n",
        "    if num > max_value :\n",
        "      max_value = num\n",
        "\n",
        "  # numbers 리스트의 모든 값을 순환하며 최댓값과 최솟값 업데이트\n",
        "  for num in numbers:\n",
        "    undate_min_max(num)\n",
        "\n",
        "  # 최솟값을 반환하는 내부함수\n",
        "  def get_min():\n",
        "    return min_value\n",
        "\n",
        "  # 최댓값을 반환하는 내부함수\n",
        "  def get_max():\n",
        "    return max_value\n",
        "\n",
        "\n",
        "  return get_min, get_max\n",
        "\n",
        "numbers = [10, 5, 8, 12, 3, 7]\n",
        "\n",
        "find_min, find_max = find_min_max(numbers)\n",
        "\n",
        "print(\"최솟값:\", find_min())\n",
        "print(\"최댓값:\", find_max())"
      ],
      "metadata": {
        "colab": {
          "base_uri": "https://localhost:8080/"
        },
        "id": "A9_RKH9DSiyu",
        "outputId": "87fdaa4e-2693-4986-9a94-5f360d2e61c0"
      },
      "execution_count": null,
      "outputs": [
        {
          "output_type": "stream",
          "name": "stdout",
          "text": [
            "최솟값: 3\n",
            "최댓값: 12\n"
          ]
        }
      ]
    },
    {
      "cell_type": "code",
      "execution_count": null,
      "metadata": {
        "id": "TGORcQKftcFR",
        "colab": {
          "base_uri": "https://localhost:8080/"
        },
        "outputId": "95232e30-aedd-4cea-8485-8145c094d8a1"
      },
      "outputs": [
        {
          "output_type": "stream",
          "name": "stdout",
          "text": [
            "최솟값: 3\n",
            "최댓값: 12\n"
          ]
        }
      ],
      "source": [
        "# 문제 1. 최댓값과 최솟값 찾기\n",
        "\n",
        "# find_min_maz 함수 호출하기\n",
        "def find_min_max(numbers):\n",
        "  # 최솟값 최댓값 변수 선언하기\n",
        "  min_value = float('inf')\n",
        "  max_value = float('-inf')\n",
        "\n",
        "  for num in numbers:\n",
        "    if num < min_value :\n",
        "      min_value = num\n",
        "    if num > max_value :\n",
        "        max_value = num\n",
        "  return min_value, max_value\n",
        "\n",
        "numbers = [10, 5, 8, 12, 3, 7]\n",
        "\n",
        "find_min, find_max = find_min_max(numbers)\n",
        "\n",
        "print(\"최솟값:\", find_min)\n",
        "print(\"최댓값:\", find_max)\n"
      ]
    },
    {
      "cell_type": "code",
      "source": [
        "def find_min_max(numbers):\n",
        "  # 최솟값 최댓값 변수 선언하기\n",
        "  min_value = float('inf')\n",
        "  max_value = float('-inf')\n",
        "\n",
        "  def undate_min_max(num):\n",
        "\n",
        "    def get_min():\n",
        "      nonlocal min_value\n",
        "      if num < min_value :\n",
        "        min_value = num\n",
        "      for num in numbers:\n",
        "        undate_min_max(num)\n",
        "      return min_value\n",
        "    def get_max():\n",
        "      nonlocal max_value\n",
        "      if num > max_value :\n",
        "        max_value = num\n",
        "      for num in numbers:\n",
        "        undate_min_max(num)\n",
        "    return get_min, get_max\n",
        "\n",
        "\n",
        "  numbers = [10, 5, 8, 12, 3, 7]\n",
        "\n",
        "find_min, find_max = find_min_max(numbers)\n",
        "\n",
        "print(\"최솟값:\", find_min)\n",
        "print(\"최댓값:\", find_max)"
      ],
      "metadata": {
        "colab": {
          "base_uri": "https://localhost:8080/",
          "height": 221
        },
        "id": "alW-7nMNPK55",
        "outputId": "bdae26a3-492b-4cdc-e028-dbc3e27785e6"
      },
      "execution_count": null,
      "outputs": [
        {
          "output_type": "error",
          "ename": "TypeError",
          "evalue": "cannot unpack non-iterable NoneType object",
          "traceback": [
            "\u001b[0;31m---------------------------------------------------------------------------\u001b[0m",
            "\u001b[0;31mTypeError\u001b[0m                                 Traceback (most recent call last)",
            "\u001b[0;32m<ipython-input-38-8908bf9b3bda>\u001b[0m in \u001b[0;36m<cell line: 26>\u001b[0;34m()\u001b[0m\n\u001b[1;32m     24\u001b[0m   \u001b[0mnumbers\u001b[0m \u001b[0;34m=\u001b[0m \u001b[0;34m[\u001b[0m\u001b[0;36m10\u001b[0m\u001b[0;34m,\u001b[0m \u001b[0;36m5\u001b[0m\u001b[0;34m,\u001b[0m \u001b[0;36m8\u001b[0m\u001b[0;34m,\u001b[0m \u001b[0;36m12\u001b[0m\u001b[0;34m,\u001b[0m \u001b[0;36m3\u001b[0m\u001b[0;34m,\u001b[0m \u001b[0;36m7\u001b[0m\u001b[0;34m]\u001b[0m\u001b[0;34m\u001b[0m\u001b[0;34m\u001b[0m\u001b[0m\n\u001b[1;32m     25\u001b[0m \u001b[0;34m\u001b[0m\u001b[0m\n\u001b[0;32m---> 26\u001b[0;31m \u001b[0mfind_min\u001b[0m\u001b[0;34m,\u001b[0m \u001b[0mfind_max\u001b[0m \u001b[0;34m=\u001b[0m \u001b[0mfind_min_max\u001b[0m\u001b[0;34m(\u001b[0m\u001b[0mnumbers\u001b[0m\u001b[0;34m)\u001b[0m\u001b[0;34m\u001b[0m\u001b[0;34m\u001b[0m\u001b[0m\n\u001b[0m\u001b[1;32m     27\u001b[0m \u001b[0;34m\u001b[0m\u001b[0m\n\u001b[1;32m     28\u001b[0m \u001b[0mprint\u001b[0m\u001b[0;34m(\u001b[0m\u001b[0;34m\"최솟값:\"\u001b[0m\u001b[0;34m,\u001b[0m \u001b[0mfind_min\u001b[0m\u001b[0;34m)\u001b[0m\u001b[0;34m\u001b[0m\u001b[0;34m\u001b[0m\u001b[0m\n",
            "\u001b[0;31mTypeError\u001b[0m: cannot unpack non-iterable NoneType object"
          ]
        }
      ]
    },
    {
      "cell_type": "markdown",
      "source": [
        "# 문제 2"
      ],
      "metadata": {
        "id": "ZBoAiMEPLxRi"
      }
    },
    {
      "cell_type": "code",
      "source": [
        "# 문제 2. 함수의 호출 횟수를 세는 데코레이터\n",
        "\n",
        "# 함수 선언하기\n",
        "def counter(fn):\n",
        "  count = 0\n",
        "  def count_say_hello():\n",
        "    nonlocal count\n",
        "    count += 1\n",
        "    fn()\n",
        "    print(\"say_hello 실행횟수 : \",count) # 클로저 사용해서 실행횟수 업데이트하기\n",
        "  return count_say_hello\n",
        "\n",
        "# 데코레이터 만들기\n",
        "@counter\n",
        "def say_hello():\n",
        "  print (\"Hello Aiffel!\")\n",
        "\n",
        "for i in range(5):\n",
        "    say_hello()"
      ],
      "metadata": {
        "id": "wMBImR9DGJSn",
        "colab": {
          "base_uri": "https://localhost:8080/"
        },
        "outputId": "980fddfe-9936-4681-dead-d074afce6d94"
      },
      "execution_count": null,
      "outputs": [
        {
          "output_type": "stream",
          "name": "stdout",
          "text": [
            "Hello Aiffel!\n",
            "say_hello 실행횟수 :  1\n",
            "Hello Aiffel!\n",
            "say_hello 실행횟수 :  2\n",
            "Hello Aiffel!\n",
            "say_hello 실행횟수 :  3\n",
            "Hello Aiffel!\n",
            "say_hello 실행횟수 :  4\n",
            "Hello Aiffel!\n",
            "say_hello 실행횟수 :  5\n"
          ]
        }
      ]
    }
  ]
}