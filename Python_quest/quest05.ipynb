{
  "nbformat": 4,
  "nbformat_minor": 0,
  "metadata": {
    "colab": {
      "provenance": [],
      "authorship_tag": "ABX9TyP5fY9UimfURc6AA48hDl82",
      "include_colab_link": true
    },
    "kernelspec": {
      "name": "python3",
      "display_name": "Python 3"
    },
    "language_info": {
      "name": "python"
    }
  },
  "cells": [
    {
      "cell_type": "markdown",
      "metadata": {
        "id": "view-in-github",
        "colab_type": "text"
      },
      "source": [
        "<a href=\"https://colab.research.google.com/github/JinseokCodeDiary/first-repository/blob/master/Python_quest/quest05.ipynb\" target=\"_parent\"><img src=\"https://colab.research.google.com/assets/colab-badge.svg\" alt=\"Open In Colab\"/></a>"
      ]
    },
    {
      "cell_type": "code",
      "execution_count": 38,
      "metadata": {
        "colab": {
          "base_uri": "https://localhost:8080/"
        },
        "id": "CqaZGxLZLot8",
        "outputId": "ce9170b1-d793-413a-ae20-f8d2db564b05"
      },
      "outputs": [
        {
          "name": "stdout",
          "output_type": "stream",
          "text": [
            "시작하고 싶다면 아무키나 입력하고 종료하고 싶다면 exit를 입력하세요0\n",
            "첫 번째 정수를 입력하세요: 0\n",
            "두 번째 정수를 입력하세요: 0\n",
            "연산자를 입력하세요 \n",
            " 더하기 = +\n",
            " 나누기 = -\n",
            "곱하기 = *\n",
            "나누기 = /\n",
            "제곱 = **\n",
            "연산자 : /\n",
            "0으로 나눌 수 없습니다.\n",
            "시작하고 싶다면 아무키나 입력하고 종료하고 싶다면 exit를 입력하세요1\n",
            "첫 번째 정수를 입력하세요: 2\n",
            "두 번째 정수를 입력하세요: 2\n",
            "연산자를 입력하세요 \n",
            " 더하기 = +\n",
            " 나누기 = -\n",
            "곱하기 = *\n",
            "나누기 = /\n",
            "제곱 = **\n",
            "연산자 : /\n",
            "1.0\n",
            "시작하고 싶다면 아무키나 입력하고 종료하고 싶다면 exit를 입력하세요3\n",
            "첫 번째 정수를 입력하세요: 3\n",
            "두 번째 정수를 입력하세요: r\n",
            "정수를 입력해주세요.\n",
            "시작하고 싶다면 아무키나 입력하고 종료하고 싶다면 exit를 입력하세요exit\n"
          ]
        }
      ],
      "source": [
        "#회고록 박진석 : 원영님의 추천으로 서로 각자 정해진 시간까지 코딩하고 후에 서로의 코딩에 대한 조언과 질문을 하고 반영해서 각자의 것을 최적화했다.\n",
        "#                각자 코딩할 시간을 가지면서 능동적이고 자기주도적으로 진행하고 리뷰할 때 서로 코딩에 대한 조언을 구체적으로 이해하는 데에 도움되었다.\n",
        "#                동작 구현은 문제이해 후 큰 틀을 짜고 동작시킨 뒤 원하는 결과가 나오지 않았을 때 수정하는 방식으로 코딩했다.\n",
        "import math\n",
        "while True:\n",
        "  sf = input('시작하고 싶다면 아무키나 입력하고 종료하고 싶다면 exit를 입력하세요')\n",
        "  if sf== \"exit\":                                                                                                 #처음엔 아래 연산자 위에 선언해서 exit를 누른뒤에 정수 2개를 입력해줘야 종료되어 위치를 탈출조건을 입력받은뒤 바로 뒤에 선언했다\n",
        "    break\n",
        "  num1 = input(\"첫 번째 정수를 입력하세요: \")\n",
        "  num2 = input(\"두 번째 정수를 입력하세요: \")\n",
        "  try:\n",
        "    num1 = int(num1)\n",
        "    num2 = int(num2)\n",
        "  except ValueError:\n",
        "    print(\"정수를 입력해주세요.\")                                                                                 #예외사항이 많으므로 except로 예외 처리\n",
        "    continue\n",
        "\n",
        "  operation=input(\"연산자를 입력하세요 \\n 더하기 = +\\n 나누기 = -\\n곱하기 = *\\n나누기 = /\\n제곱 = **\\n연산자 : \")\n",
        "\n",
        "\n",
        "  if operation == \"+\":                                                                                            #입력된 연산자에 따른 연산 코딩\n",
        "    result = num1 + num2\n",
        "    print(result)\n",
        "\n",
        "  elif operation == \"-\":\n",
        "    result = num1 - num2\n",
        "    print(result)\n",
        "\n",
        "  elif operation == \"*\":\n",
        "    result = num1 * num2\n",
        "    print(result)\n",
        "\n",
        "  elif operation == \"/\":                                                                                             #raise를 시도했으나 실패함\n",
        "    try:\n",
        "      result = num1 / num2\n",
        "      print(result)\n",
        "    except ZeroDivisionError:\n",
        "      print(\"0으로 나눌 수 없습니다.\")\n",
        "\n",
        "\n",
        "  elif operation == \"**\":\n",
        "    result = num1 ** num2\n",
        "    print(result)\n",
        "  else:\n",
        "    print(\"잘못된 연산자입니다.\")                                                                                   #연산 조건이 5개로 한정되어있어 예외가 예상되어 else로 처리\n",
        "    continue\n",
        "\n",
        "\n",
        "\n",
        "\n",
        "\n"
      ]
    }
  ]
}